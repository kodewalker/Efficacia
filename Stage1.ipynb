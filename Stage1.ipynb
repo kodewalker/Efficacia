{
  "nbformat": 4,
  "nbformat_minor": 0,
  "metadata": {
    "colab": {
      "name": "Stage1.ipynb",
      "provenance": []
    },
    "kernelspec": {
      "name": "python3",
      "display_name": "Python 3"
    },
    "language_info": {
      "name": "python"
    }
  },
  "cells": [
    {
      "cell_type": "code",
      "metadata": {
        "colab": {
          "base_uri": "https://localhost:8080/"
        },
        "id": "fkNUU4v4Izjx",
        "outputId": "51a98042-d14a-46b6-d944-b97486f53463"
      },
      "source": [
        "pip install ray"
      ],
      "execution_count": 10,
      "outputs": [
        {
          "output_type": "stream",
          "name": "stdout",
          "text": [
            "Requirement already satisfied: ray in /usr/local/lib/python3.7/dist-packages (1.8.0)\n",
            "Requirement already satisfied: click>=7.0 in /usr/local/lib/python3.7/dist-packages (from ray) (7.1.2)\n",
            "Requirement already satisfied: redis>=3.5.0 in /usr/local/lib/python3.7/dist-packages (from ray) (4.0.1)\n",
            "Requirement already satisfied: pyyaml in /usr/local/lib/python3.7/dist-packages (from ray) (3.13)\n",
            "Requirement already satisfied: filelock in /usr/local/lib/python3.7/dist-packages (from ray) (3.3.2)\n",
            "Requirement already satisfied: numpy>=1.16 in /usr/local/lib/python3.7/dist-packages (from ray) (1.19.5)\n",
            "Requirement already satisfied: attrs in /usr/local/lib/python3.7/dist-packages (from ray) (21.2.0)\n",
            "Requirement already satisfied: protobuf>=3.15.3 in /usr/local/lib/python3.7/dist-packages (from ray) (3.17.3)\n",
            "Requirement already satisfied: jsonschema in /usr/local/lib/python3.7/dist-packages (from ray) (2.6.0)\n",
            "Requirement already satisfied: grpcio>=1.28.1 in /usr/local/lib/python3.7/dist-packages (from ray) (1.41.1)\n",
            "Requirement already satisfied: msgpack<2.0.0,>=1.0.0 in /usr/local/lib/python3.7/dist-packages (from ray) (1.0.2)\n",
            "Requirement already satisfied: six>=1.5.2 in /usr/local/lib/python3.7/dist-packages (from grpcio>=1.28.1->ray) (1.15.0)\n",
            "Requirement already satisfied: deprecated in /usr/local/lib/python3.7/dist-packages (from redis>=3.5.0->ray) (1.2.13)\n",
            "Requirement already satisfied: wrapt<2,>=1.10 in /usr/local/lib/python3.7/dist-packages (from deprecated->redis>=3.5.0->ray) (1.13.3)\n"
          ]
        }
      ]
    },
    {
      "cell_type": "code",
      "metadata": {
        "id": "JGO8nuXyJOvU"
      },
      "source": [
        "import os\n",
        "import folium\n",
        "from branca.element import Figure\n",
        "import pandas as pd\n",
        "import GeneticAlgoLibrary\n",
        "import pandas as pd\n",
        "import numpy as np\n",
        "import matplotlib.pyplot as plt"
      ],
      "execution_count": 18,
      "outputs": []
    },
    {
      "cell_type": "code",
      "metadata": {
        "colab": {
          "base_uri": "https://localhost:8080/",
          "height": 390
        },
        "id": "rgTggp4eJ52W",
        "outputId": "950ae62e-af9c-45a2-c387-26e6918a11ad"
      },
      "source": [
        "data = pd.read_csv(\"cities_and_distances.csv\")\n",
        "data.reset_index(inplace=True)\n",
        "data1 = data.iloc[:,2:]\n",
        "data1.index = data1.columns.values\n",
        "data1"
      ],
      "execution_count": 19,
      "outputs": [
        {
          "output_type": "execute_result",
          "data": {
            "text/html": [
              "<div>\n",
              "<style scoped>\n",
              "    .dataframe tbody tr th:only-of-type {\n",
              "        vertical-align: middle;\n",
              "    }\n",
              "\n",
              "    .dataframe tbody tr th {\n",
              "        vertical-align: top;\n",
              "    }\n",
              "\n",
              "    .dataframe thead th {\n",
              "        text-align: right;\n",
              "    }\n",
              "</style>\n",
              "<table border=\"1\" class=\"dataframe\">\n",
              "  <thead>\n",
              "    <tr style=\"text-align: right;\">\n",
              "      <th></th>\n",
              "      <th>Bangalore</th>\n",
              "      <th>Jaipur</th>\n",
              "      <th>Varanasi</th>\n",
              "      <th>Udaipur</th>\n",
              "      <th>Delhi</th>\n",
              "      <th>Chennai</th>\n",
              "      <th>Mysore</th>\n",
              "      <th>Agra</th>\n",
              "      <th>Kolkata</th>\n",
              "      <th>Mumbai</th>\n",
              "      <th>Hyderabad</th>\n",
              "    </tr>\n",
              "  </thead>\n",
              "  <tbody>\n",
              "    <tr>\n",
              "      <th>Bangalore</th>\n",
              "      <td>0</td>\n",
              "      <td>2026</td>\n",
              "      <td>1825</td>\n",
              "      <td>1724</td>\n",
              "      <td>2166</td>\n",
              "      <td>346</td>\n",
              "      <td>149</td>\n",
              "      <td>1923</td>\n",
              "      <td>1862</td>\n",
              "      <td>980</td>\n",
              "      <td>569</td>\n",
              "    </tr>\n",
              "    <tr>\n",
              "      <th>Jaipur</th>\n",
              "      <td>2026</td>\n",
              "      <td>0</td>\n",
              "      <td>849</td>\n",
              "      <td>393</td>\n",
              "      <td>287</td>\n",
              "      <td>2108</td>\n",
              "      <td>2121</td>\n",
              "      <td>240</td>\n",
              "      <td>1520</td>\n",
              "      <td>1146</td>\n",
              "      <td>1483</td>\n",
              "    </tr>\n",
              "    <tr>\n",
              "      <th>Varanasi</th>\n",
              "      <td>1825</td>\n",
              "      <td>849</td>\n",
              "      <td>0</td>\n",
              "      <td>1154</td>\n",
              "      <td>834</td>\n",
              "      <td>1862</td>\n",
              "      <td>1976</td>\n",
              "      <td>614</td>\n",
              "      <td>683</td>\n",
              "      <td>1524</td>\n",
              "      <td>1237</td>\n",
              "    </tr>\n",
              "    <tr>\n",
              "      <th>Udaipur</th>\n",
              "      <td>1724</td>\n",
              "      <td>393</td>\n",
              "      <td>1154</td>\n",
              "      <td>0</td>\n",
              "      <td>661</td>\n",
              "      <td>2077</td>\n",
              "      <td>1809</td>\n",
              "      <td>634</td>\n",
              "      <td>1825</td>\n",
              "      <td>753</td>\n",
              "      <td>1349</td>\n",
              "    </tr>\n",
              "    <tr>\n",
              "      <th>Delhi</th>\n",
              "      <td>2166</td>\n",
              "      <td>287</td>\n",
              "      <td>834</td>\n",
              "      <td>661</td>\n",
              "      <td>0</td>\n",
              "      <td>2203</td>\n",
              "      <td>2317</td>\n",
              "      <td>233</td>\n",
              "      <td>1498</td>\n",
              "      <td>1415</td>\n",
              "      <td>1578</td>\n",
              "    </tr>\n",
              "    <tr>\n",
              "      <th>Chennai</th>\n",
              "      <td>346</td>\n",
              "      <td>2108</td>\n",
              "      <td>1862</td>\n",
              "      <td>2077</td>\n",
              "      <td>2203</td>\n",
              "      <td>0</td>\n",
              "      <td>482</td>\n",
              "      <td>1957</td>\n",
              "      <td>1669</td>\n",
              "      <td>1345</td>\n",
              "      <td>627</td>\n",
              "    </tr>\n",
              "    <tr>\n",
              "      <th>Mysore</th>\n",
              "      <td>149</td>\n",
              "      <td>2121</td>\n",
              "      <td>1976</td>\n",
              "      <td>1809</td>\n",
              "      <td>2317</td>\n",
              "      <td>482</td>\n",
              "      <td>0</td>\n",
              "      <td>2072</td>\n",
              "      <td>2012</td>\n",
              "      <td>1064</td>\n",
              "      <td>718</td>\n",
              "    </tr>\n",
              "    <tr>\n",
              "      <th>Agra</th>\n",
              "      <td>1923</td>\n",
              "      <td>240</td>\n",
              "      <td>614</td>\n",
              "      <td>634</td>\n",
              "      <td>233</td>\n",
              "      <td>1957</td>\n",
              "      <td>2072</td>\n",
              "      <td>0</td>\n",
              "      <td>1280</td>\n",
              "      <td>1323</td>\n",
              "      <td>1334</td>\n",
              "    </tr>\n",
              "    <tr>\n",
              "      <th>Kolkata</th>\n",
              "      <td>1862</td>\n",
              "      <td>1520</td>\n",
              "      <td>683</td>\n",
              "      <td>1825</td>\n",
              "      <td>1498</td>\n",
              "      <td>1669</td>\n",
              "      <td>2012</td>\n",
              "      <td>1280</td>\n",
              "      <td>0</td>\n",
              "      <td>2053</td>\n",
              "      <td>1493</td>\n",
              "    </tr>\n",
              "    <tr>\n",
              "      <th>Mumbai</th>\n",
              "      <td>980</td>\n",
              "      <td>1146</td>\n",
              "      <td>1524</td>\n",
              "      <td>753</td>\n",
              "      <td>1415</td>\n",
              "      <td>1345</td>\n",
              "      <td>1064</td>\n",
              "      <td>1323</td>\n",
              "      <td>2053</td>\n",
              "      <td>0</td>\n",
              "      <td>711</td>\n",
              "    </tr>\n",
              "    <tr>\n",
              "      <th>Hyderabad</th>\n",
              "      <td>569</td>\n",
              "      <td>1483</td>\n",
              "      <td>1237</td>\n",
              "      <td>1349</td>\n",
              "      <td>1578</td>\n",
              "      <td>627</td>\n",
              "      <td>718</td>\n",
              "      <td>1334</td>\n",
              "      <td>1493</td>\n",
              "      <td>711</td>\n",
              "      <td>0</td>\n",
              "    </tr>\n",
              "  </tbody>\n",
              "</table>\n",
              "</div>"
            ],
            "text/plain": [
              "           Bangalore  Jaipur  Varanasi  ...  Kolkata  Mumbai  Hyderabad\n",
              "Bangalore          0    2026      1825  ...     1862     980        569\n",
              "Jaipur          2026       0       849  ...     1520    1146       1483\n",
              "Varanasi        1825     849         0  ...      683    1524       1237\n",
              "Udaipur         1724     393      1154  ...     1825     753       1349\n",
              "Delhi           2166     287       834  ...     1498    1415       1578\n",
              "Chennai          346    2108      1862  ...     1669    1345        627\n",
              "Mysore           149    2121      1976  ...     2012    1064        718\n",
              "Agra            1923     240       614  ...     1280    1323       1334\n",
              "Kolkata         1862    1520       683  ...        0    2053       1493\n",
              "Mumbai           980    1146      1524  ...     2053       0        711\n",
              "Hyderabad        569    1483      1237  ...     1493     711          0\n",
              "\n",
              "[11 rows x 11 columns]"
            ]
          },
          "metadata": {},
          "execution_count": 19
        }
      ]
    },
    {
      "cell_type": "code",
      "metadata": {
        "id": "1xFCEI4_KL_J"
      },
      "source": [
        "ga_obj =  GeneticAlgoLibrary.GeneticAlgorithmTSP(number_of_cities=11,\n",
        "                             initial_pop_size=10,\n",
        "                             nelite=5,\n",
        "                             percentage_to_crossover=30,\n",
        "                             percentage_to_mutate=20,\n",
        "                             dist_mat=data1)"
      ],
      "execution_count": 20,
      "outputs": []
    },
    {
      "cell_type": "code",
      "metadata": {
        "colab": {
          "base_uri": "https://localhost:8080/",
          "height": 359
        },
        "id": "Yp8Hb2d7KRa3",
        "outputId": "49b3a643-67dc-40da-9741-722e17982631"
      },
      "source": [
        "ga_obj.initial_pop_cost()"
      ],
      "execution_count": 21,
      "outputs": [
        {
          "output_type": "execute_result",
          "data": {
            "text/html": [
              "<div>\n",
              "<style scoped>\n",
              "    .dataframe tbody tr th:only-of-type {\n",
              "        vertical-align: middle;\n",
              "    }\n",
              "\n",
              "    .dataframe tbody tr th {\n",
              "        vertical-align: top;\n",
              "    }\n",
              "\n",
              "    .dataframe thead th {\n",
              "        text-align: right;\n",
              "    }\n",
              "</style>\n",
              "<table border=\"1\" class=\"dataframe\">\n",
              "  <thead>\n",
              "    <tr style=\"text-align: right;\">\n",
              "      <th></th>\n",
              "      <th>Route</th>\n",
              "      <th>Cost</th>\n",
              "    </tr>\n",
              "  </thead>\n",
              "  <tbody>\n",
              "    <tr>\n",
              "      <th>2</th>\n",
              "      <td>[5, 4, 3, 7, 2, 10, 8, 1, 9, 6]</td>\n",
              "      <td>11067</td>\n",
              "    </tr>\n",
              "    <tr>\n",
              "      <th>4</th>\n",
              "      <td>[9, 4, 2, 5, 6, 10, 8, 3, 7, 1]</td>\n",
              "      <td>12509</td>\n",
              "    </tr>\n",
              "    <tr>\n",
              "      <th>0</th>\n",
              "      <td>[5, 10, 6, 7, 3, 8, 4, 2, 9, 1]</td>\n",
              "      <td>13250</td>\n",
              "    </tr>\n",
              "    <tr>\n",
              "      <th>9</th>\n",
              "      <td>[8, 7, 5, 6, 3, 10, 1, 2, 4, 9]</td>\n",
              "      <td>14300</td>\n",
              "    </tr>\n",
              "    <tr>\n",
              "      <th>1</th>\n",
              "      <td>[5, 7, 10, 9, 4, 1, 6, 2, 8, 3]</td>\n",
              "      <td>14379</td>\n",
              "    </tr>\n",
              "    <tr>\n",
              "      <th>7</th>\n",
              "      <td>[6, 1, 9, 2, 8, 5, 3, 10, 4, 7]</td>\n",
              "      <td>14452</td>\n",
              "    </tr>\n",
              "    <tr>\n",
              "      <th>3</th>\n",
              "      <td>[6, 7, 10, 9, 4, 3, 8, 5, 2, 1]</td>\n",
              "      <td>14573</td>\n",
              "    </tr>\n",
              "    <tr>\n",
              "      <th>5</th>\n",
              "      <td>[7, 10, 8, 3, 9, 4, 2, 5, 1, 6]</td>\n",
              "      <td>15817</td>\n",
              "    </tr>\n",
              "    <tr>\n",
              "      <th>8</th>\n",
              "      <td>[1, 6, 9, 2, 4, 5, 3, 10, 7, 8]</td>\n",
              "      <td>17674</td>\n",
              "    </tr>\n",
              "    <tr>\n",
              "      <th>6</th>\n",
              "      <td>[1, 10, 3, 5, 7, 2, 9, 8, 6, 4]</td>\n",
              "      <td>19578</td>\n",
              "    </tr>\n",
              "  </tbody>\n",
              "</table>\n",
              "</div>"
            ],
            "text/plain": [
              "                             Route   Cost\n",
              "2  [5, 4, 3, 7, 2, 10, 8, 1, 9, 6]  11067\n",
              "4  [9, 4, 2, 5, 6, 10, 8, 3, 7, 1]  12509\n",
              "0  [5, 10, 6, 7, 3, 8, 4, 2, 9, 1]  13250\n",
              "9  [8, 7, 5, 6, 3, 10, 1, 2, 4, 9]  14300\n",
              "1  [5, 7, 10, 9, 4, 1, 6, 2, 8, 3]  14379\n",
              "7  [6, 1, 9, 2, 8, 5, 3, 10, 4, 7]  14452\n",
              "3  [6, 7, 10, 9, 4, 3, 8, 5, 2, 1]  14573\n",
              "5  [7, 10, 8, 3, 9, 4, 2, 5, 1, 6]  15817\n",
              "8  [1, 6, 9, 2, 4, 5, 3, 10, 7, 8]  17674\n",
              "6  [1, 10, 3, 5, 7, 2, 9, 8, 6, 4]  19578"
            ]
          },
          "metadata": {},
          "execution_count": 21
        }
      ]
    },
    {
      "cell_type": "code",
      "metadata": {
        "colab": {
          "base_uri": "https://localhost:8080/",
          "height": 204
        },
        "id": "ibg0jVfUKYw5",
        "outputId": "21244cf3-aeb5-4d64-e57f-2ddcc3d439cc"
      },
      "source": [
        "ga_obj.the_elite_few()"
      ],
      "execution_count": 22,
      "outputs": [
        {
          "output_type": "execute_result",
          "data": {
            "text/html": [
              "<div>\n",
              "<style scoped>\n",
              "    .dataframe tbody tr th:only-of-type {\n",
              "        vertical-align: middle;\n",
              "    }\n",
              "\n",
              "    .dataframe tbody tr th {\n",
              "        vertical-align: top;\n",
              "    }\n",
              "\n",
              "    .dataframe thead th {\n",
              "        text-align: right;\n",
              "    }\n",
              "</style>\n",
              "<table border=\"1\" class=\"dataframe\">\n",
              "  <thead>\n",
              "    <tr style=\"text-align: right;\">\n",
              "      <th></th>\n",
              "      <th>Route</th>\n",
              "      <th>Cost</th>\n",
              "    </tr>\n",
              "  </thead>\n",
              "  <tbody>\n",
              "    <tr>\n",
              "      <th>2</th>\n",
              "      <td>[5, 4, 3, 7, 2, 10, 8, 1, 9, 6]</td>\n",
              "      <td>11067</td>\n",
              "    </tr>\n",
              "    <tr>\n",
              "      <th>4</th>\n",
              "      <td>[9, 4, 2, 5, 6, 10, 8, 3, 7, 1]</td>\n",
              "      <td>12509</td>\n",
              "    </tr>\n",
              "    <tr>\n",
              "      <th>0</th>\n",
              "      <td>[5, 10, 6, 7, 3, 8, 4, 2, 9, 1]</td>\n",
              "      <td>13250</td>\n",
              "    </tr>\n",
              "    <tr>\n",
              "      <th>9</th>\n",
              "      <td>[8, 7, 5, 6, 3, 10, 1, 2, 4, 9]</td>\n",
              "      <td>14300</td>\n",
              "    </tr>\n",
              "    <tr>\n",
              "      <th>1</th>\n",
              "      <td>[5, 7, 10, 9, 4, 1, 6, 2, 8, 3]</td>\n",
              "      <td>14379</td>\n",
              "    </tr>\n",
              "  </tbody>\n",
              "</table>\n",
              "</div>"
            ],
            "text/plain": [
              "                             Route   Cost\n",
              "2  [5, 4, 3, 7, 2, 10, 8, 1, 9, 6]  11067\n",
              "4  [9, 4, 2, 5, 6, 10, 8, 3, 7, 1]  12509\n",
              "0  [5, 10, 6, 7, 3, 8, 4, 2, 9, 1]  13250\n",
              "9  [8, 7, 5, 6, 3, 10, 1, 2, 4, 9]  14300\n",
              "1  [5, 7, 10, 9, 4, 1, 6, 2, 8, 3]  14379"
            ]
          },
          "metadata": {},
          "execution_count": 22
        }
      ]
    },
    {
      "cell_type": "code",
      "metadata": {
        "colab": {
          "base_uri": "https://localhost:8080/",
          "height": 222
        },
        "id": "X3kW9g2JKct1",
        "outputId": "d9e5e200-b5e3-4697-bbfc-b5f6531ed78b"
      },
      "source": [
        "ga_obj.mutation_function(ga_obj.the_elite_few())"
      ],
      "execution_count": 23,
      "outputs": [
        {
          "output_type": "stream",
          "name": "stderr",
          "text": [
            "Mutation: 100%|██████████| 5/5 [00:00<00:00, 10058.28it/s]\n"
          ]
        },
        {
          "output_type": "execute_result",
          "data": {
            "text/html": [
              "<div>\n",
              "<style scoped>\n",
              "    .dataframe tbody tr th:only-of-type {\n",
              "        vertical-align: middle;\n",
              "    }\n",
              "\n",
              "    .dataframe tbody tr th {\n",
              "        vertical-align: top;\n",
              "    }\n",
              "\n",
              "    .dataframe thead th {\n",
              "        text-align: right;\n",
              "    }\n",
              "</style>\n",
              "<table border=\"1\" class=\"dataframe\">\n",
              "  <thead>\n",
              "    <tr style=\"text-align: right;\">\n",
              "      <th></th>\n",
              "      <th>Route</th>\n",
              "      <th>Cost</th>\n",
              "    </tr>\n",
              "  </thead>\n",
              "  <tbody>\n",
              "    <tr>\n",
              "      <th>0</th>\n",
              "      <td>[7, 2, 10, 8, 1, 9, 6, 5, 4, 3]</td>\n",
              "      <td>14067</td>\n",
              "    </tr>\n",
              "    <tr>\n",
              "      <th>1</th>\n",
              "      <td>[9, 4, 2, 5, 6, 10, 8, 3, 7, 1]</td>\n",
              "      <td>12509</td>\n",
              "    </tr>\n",
              "    <tr>\n",
              "      <th>2</th>\n",
              "      <td>[8, 4, 2, 9, 1, 5, 10, 6, 7, 3]</td>\n",
              "      <td>14747</td>\n",
              "    </tr>\n",
              "    <tr>\n",
              "      <th>3</th>\n",
              "      <td>[6, 3, 10, 1, 2, 4, 9, 8, 7, 5]</td>\n",
              "      <td>13524</td>\n",
              "    </tr>\n",
              "    <tr>\n",
              "      <th>4</th>\n",
              "      <td>[7, 10, 9, 4, 1, 6, 2, 8, 3, 5]</td>\n",
              "      <td>14698</td>\n",
              "    </tr>\n",
              "  </tbody>\n",
              "</table>\n",
              "</div>"
            ],
            "text/plain": [
              "                             Route   Cost\n",
              "0  [7, 2, 10, 8, 1, 9, 6, 5, 4, 3]  14067\n",
              "1  [9, 4, 2, 5, 6, 10, 8, 3, 7, 1]  12509\n",
              "2  [8, 4, 2, 9, 1, 5, 10, 6, 7, 3]  14747\n",
              "3  [6, 3, 10, 1, 2, 4, 9, 8, 7, 5]  13524\n",
              "4  [7, 10, 9, 4, 1, 6, 2, 8, 3, 5]  14698"
            ]
          },
          "metadata": {},
          "execution_count": 23
        }
      ]
    },
    {
      "cell_type": "code",
      "metadata": {
        "colab": {
          "base_uri": "https://localhost:8080/"
        },
        "id": "pvRFHkSYKe-1",
        "outputId": "f6336db7-b170-48f1-9c4e-c284c2589ff8"
      },
      "source": [
        "ga_obj.get_mutated_path([8, 5, 2, 6, 10, 3, 1, 4, 7, 9],4)"
      ],
      "execution_count": 24,
      "outputs": [
        {
          "output_type": "execute_result",
          "data": {
            "text/plain": [
              "[10, 3, 1, 4, 7, 9, 8, 5, 2, 6]"
            ]
          },
          "metadata": {},
          "execution_count": 24
        }
      ]
    },
    {
      "cell_type": "markdown",
      "metadata": {
        "id": "WKaP35iSLEcY"
      },
      "source": [
        "**GA major loop**"
      ]
    },
    {
      "cell_type": "code",
      "metadata": {
        "colab": {
          "base_uri": "https://localhost:8080/"
        },
        "id": "FDp3wjrdKhYl",
        "outputId": "dba3236d-5f4c-416a-9f78-d404164efb81"
      },
      "source": [
        "# ga_obj = GeneticAlgoLibrary.OverallGaRun(noverall=1,\n",
        "#                                      number_of_cities=11,\n",
        "#                                      initial_pop_size=1000,\n",
        "#                                      nelite=10,\n",
        "#                                      percentage_to_crossover=20,\n",
        "#                                      percentage_to_mutate=20,\n",
        "#                                      dist_mat=data1)\n",
        "\n",
        "for i in [10,100]:\n",
        "  ga_obj= GeneticAlgoLibrary.OverallGaRun(noverall=i,\n",
        "                                       number_of_cities=11,\n",
        "                                       initial_pop_size=10000,\n",
        "                                       nelite=10,\n",
        "                                       percentage_to_crossover=20,\n",
        "                                       percentage_to_mutate=20,\n",
        "                                       dist_mat=data1)\n",
        "  best_sol = ga_obj.run_overall_ga()"
      ],
      "execution_count": 25,
      "outputs": [
        {
          "output_type": "stream",
          "name": "stderr",
          "text": [
            "Cities Mapping: 100%|██████████| 11/11 [00:00<00:00, 17516.08it/s]\n"
          ]
        },
        {
          "output_type": "stream",
          "name": "stdout",
          "text": [
            "Starting 10 iterations of the GA\n",
            "\u001b[2m\u001b[36m(fitness_function pid=212)\u001b[0m \n"
          ]
        },
        {
          "output_type": "stream",
          "name": "stderr",
          "text": [
            "Crossover: 100%|██████████| 3/3 [00:00<00:00, 113.39it/s]\n",
            "Crossover: 100%|██████████| 3/3 [00:00<00:00, 1460.75it/s]\n",
            "Crossover: 100%|██████████| 3/3 [00:00<00:00, 1124.68it/s]\n",
            "Crossover: 100%|██████████| 3/3 [00:00<00:00, 885.31it/s]\n",
            "Crossover: 100%|██████████| 3/3 [00:00<00:00, 1305.42it/s]\n",
            "Crossover: 100%|██████████| 3/3 [00:00<00:00, 752.61it/s]\n",
            "Crossover: 100%|██████████| 3/3 [00:00<00:00, 461.79it/s]\n",
            "Crossover: 100%|██████████| 3/3 [00:00<00:00, 1615.06it/s]\n",
            "Crossover: 100%|██████████| 3/3 [00:00<00:00, 1032.91it/s]\n",
            "Crossover: 100%|██████████| 3/3 [00:00<00:00, 924.87it/s]\n"
          ]
        },
        {
          "output_type": "stream",
          "name": "stdout",
          "text": [
            "-----------------------------------------------------------------\n",
            "Best solution for initial population size of 10000 and number \n",
            "            of runs 10 is \n",
            "                              Route  Cost\n",
            "1  [6, 9, 3, 1, 7, 4, 2, 8, 10, 5]  6815\n",
            "Generated 20(0.001%) of the 3628800 solutions\n",
            "Total distance travelled to cover the final route of \n",
            " Bangalore => Mysore => Mumbai => Udaipur => Jaipur => Agra => Delhi => Varanasi => Kolkata => Hyderabad => Chennai => Bangalore is 6815 KM.\n",
            "             (Generated from initial population size of 10000)\n",
            "-----------------------------------------------------------------\n"
          ]
        },
        {
          "output_type": "stream",
          "name": "stderr",
          "text": [
            "Cities Mapping: 100%|██████████| 11/11 [00:00<00:00, 39132.61it/s]"
          ]
        },
        {
          "output_type": "stream",
          "name": "stdout",
          "text": [
            "Starting 100 iterations of the GA\n"
          ]
        },
        {
          "output_type": "stream",
          "name": "stderr",
          "text": [
            "\n"
          ]
        },
        {
          "output_type": "stream",
          "name": "stdout",
          "text": [
            "\u001b[2m\u001b[36m(fitness_function pid=213)\u001b[0m \n",
            "\u001b[2m\u001b[36m(fitness_function pid=213)\u001b[0m \n",
            "\u001b[2m\u001b[36m(fitness_function pid=212)\u001b[0m \n"
          ]
        },
        {
          "output_type": "stream",
          "name": "stderr",
          "text": [
            "Crossover: 100%|██████████| 3/3 [00:00<00:00, 1008.73it/s]\n",
            "Crossover: 100%|██████████| 3/3 [00:00<00:00, 789.64it/s]\n",
            "Crossover: 100%|██████████| 3/3 [00:00<00:00, 1600.27it/s]\n",
            "Crossover: 100%|██████████| 3/3 [00:00<00:00, 1807.89it/s]\n",
            "Crossover: 100%|██████████| 3/3 [00:00<00:00, 895.90it/s]\n",
            "Crossover: 100%|██████████| 3/3 [00:00<00:00, 883.51it/s]\n",
            "Crossover: 100%|██████████| 3/3 [00:00<00:00, 1038.88it/s]\n",
            "Crossover: 100%|██████████| 3/3 [00:00<00:00, 910.29it/s]\n",
            "Crossover: 100%|██████████| 3/3 [00:00<00:00, 1846.36it/s]\n",
            "Crossover: 100%|██████████| 3/3 [00:00<00:00, 1749.08it/s]\n",
            "Crossover: 100%|██████████| 3/3 [00:00<00:00, 1646.12it/s]\n",
            "Crossover: 100%|██████████| 3/3 [00:00<00:00, 1558.64it/s]\n",
            "Crossover: 100%|██████████| 3/3 [00:00<00:00, 873.87it/s]\n",
            "Crossover: 100%|██████████| 3/3 [00:00<00:00, 534.74it/s]\n",
            "Crossover: 100%|██████████| 3/3 [00:00<00:00, 628.89it/s]\n",
            "Crossover: 100%|██████████| 3/3 [00:00<00:00, 909.17it/s]\n",
            "Crossover: 100%|██████████| 3/3 [00:00<00:00, 948.08it/s]\n",
            "Crossover: 100%|██████████| 3/3 [00:00<00:00, 819.84it/s]\n",
            "Crossover: 100%|██████████| 3/3 [00:00<00:00, 1625.49it/s]\n",
            "Crossover: 100%|██████████| 3/3 [00:00<00:00, 810.39it/s]\n",
            "Crossover: 100%|██████████| 3/3 [00:00<00:00, 813.11it/s]\n",
            "Crossover: 100%|██████████| 3/3 [00:00<00:00, 1632.02it/s]\n",
            "Crossover: 100%|██████████| 3/3 [00:00<00:00, 826.84it/s]\n",
            "Crossover: 100%|██████████| 3/3 [00:00<00:00, 1114.02it/s]\n",
            "Crossover: 100%|██████████| 3/3 [00:00<00:00, 1118.58it/s]\n",
            "Crossover: 100%|██████████| 3/3 [00:00<00:00, 986.59it/s]\n",
            "Crossover: 100%|██████████| 3/3 [00:00<00:00, 734.43it/s]\n",
            "Crossover: 100%|██████████| 3/3 [00:00<00:00, 1033.59it/s]\n",
            "Crossover: 100%|██████████| 3/3 [00:00<00:00, 1778.50it/s]\n",
            "Crossover: 100%|██████████| 3/3 [00:00<00:00, 989.85it/s]\n",
            "Crossover: 100%|██████████| 3/3 [00:00<00:00, 839.53it/s]\n",
            "Crossover: 100%|██████████| 3/3 [00:00<00:00, 1203.42it/s]\n",
            "Crossover: 100%|██████████| 3/3 [00:00<00:00, 719.31it/s]\n",
            "Crossover: 100%|██████████| 3/3 [00:00<00:00, 1088.39it/s]\n",
            "Crossover: 100%|██████████| 3/3 [00:00<00:00, 1165.73it/s]\n",
            "Crossover: 100%|██████████| 3/3 [00:00<00:00, 1262.96it/s]\n",
            "Crossover: 100%|██████████| 3/3 [00:00<00:00, 1985.00it/s]\n",
            "Crossover: 100%|██████████| 3/3 [00:00<00:00, 1659.14it/s]\n",
            "Crossover: 100%|██████████| 3/3 [00:00<00:00, 1516.93it/s]\n",
            "Crossover: 100%|██████████| 3/3 [00:00<00:00, 1394.07it/s]\n",
            "Crossover: 100%|██████████| 3/3 [00:00<00:00, 768.23it/s]\n",
            "Crossover: 100%|██████████| 3/3 [00:00<00:00, 1011.00it/s]\n",
            "Crossover: 100%|██████████| 3/3 [00:00<00:00, 1712.66it/s]\n",
            "Crossover: 100%|██████████| 3/3 [00:00<00:00, 1865.24it/s]\n",
            "Crossover: 100%|██████████| 3/3 [00:00<00:00, 779.61it/s]\n",
            "Crossover: 100%|██████████| 3/3 [00:00<00:00, 1385.17it/s]\n",
            "Crossover: 100%|██████████| 3/3 [00:00<00:00, 1052.43it/s]\n",
            "Crossover: 100%|██████████| 3/3 [00:00<00:00, 1444.15it/s]\n",
            "Crossover: 100%|██████████| 3/3 [00:00<00:00, 1090.09it/s]\n",
            "Crossover: 100%|██████████| 3/3 [00:00<00:00, 1480.17it/s]\n",
            "Crossover: 100%|██████████| 3/3 [00:00<00:00, 523.42it/s]\n",
            "Crossover: 100%|██████████| 3/3 [00:00<00:00, 1668.38it/s]\n",
            "Crossover: 100%|██████████| 3/3 [00:00<00:00, 1259.80it/s]\n",
            "Crossover: 100%|██████████| 3/3 [00:00<00:00, 891.01it/s]\n",
            "Crossover: 100%|██████████| 3/3 [00:00<00:00, 1301.50it/s]\n",
            "Crossover: 100%|██████████| 3/3 [00:00<00:00, 1253.03it/s]\n",
            "Crossover: 100%|██████████| 3/3 [00:00<00:00, 454.96it/s]\n",
            "Crossover: 100%|██████████| 3/3 [00:00<00:00, 857.96it/s]\n",
            "Crossover: 100%|██████████| 3/3 [00:00<00:00, 1367.56it/s]\n",
            "Crossover: 100%|██████████| 3/3 [00:00<00:00, 862.37it/s]\n",
            "Crossover: 100%|██████████| 3/3 [00:00<00:00, 1889.61it/s]\n",
            "Crossover: 100%|██████████| 3/3 [00:00<00:00, 505.62it/s]\n",
            "Crossover: 100%|██████████| 3/3 [00:00<00:00, 1611.54it/s]\n",
            "Crossover: 100%|██████████| 3/3 [00:00<00:00, 1166.70it/s]\n",
            "Crossover: 100%|██████████| 3/3 [00:00<00:00, 678.62it/s]\n",
            "Crossover: 100%|██████████| 3/3 [00:00<00:00, 1777.75it/s]\n",
            "Crossover: 100%|██████████| 3/3 [00:00<00:00, 697.27it/s]\n",
            "Crossover: 100%|██████████| 3/3 [00:00<00:00, 369.36it/s]\n",
            "Crossover: 100%|██████████| 3/3 [00:00<00:00, 1565.23it/s]\n",
            "Crossover: 100%|██████████| 3/3 [00:00<00:00, 485.73it/s]\n",
            "Crossover: 100%|██████████| 3/3 [00:00<00:00, 711.99it/s]\n",
            "Crossover: 100%|██████████| 3/3 [00:00<00:00, 580.69it/s]\n",
            "Crossover: 100%|██████████| 3/3 [00:00<00:00, 1604.96it/s]\n",
            "Crossover: 100%|██████████| 3/3 [00:00<00:00, 1216.80it/s]\n",
            "Crossover: 100%|██████████| 3/3 [00:00<00:00, 1879.17it/s]\n",
            "Crossover: 100%|██████████| 3/3 [00:00<00:00, 864.98it/s]\n",
            "Crossover: 100%|██████████| 3/3 [00:00<00:00, 1175.64it/s]\n",
            "Crossover: 100%|██████████| 3/3 [00:00<00:00, 501.97it/s]\n",
            "Crossover: 100%|██████████| 3/3 [00:00<00:00, 589.42it/s]\n",
            "Crossover: 100%|██████████| 3/3 [00:00<00:00, 657.04it/s]\n",
            "Crossover: 100%|██████████| 3/3 [00:00<00:00, 1085.67it/s]\n",
            "Crossover: 100%|██████████| 3/3 [00:00<00:00, 856.16it/s]\n",
            "Crossover: 100%|██████████| 3/3 [00:00<00:00, 513.27it/s]\n",
            "Crossover: 100%|██████████| 3/3 [00:00<00:00, 1229.52it/s]\n",
            "Crossover: 100%|██████████| 3/3 [00:00<00:00, 856.97it/s]\n",
            "Crossover: 100%|██████████| 3/3 [00:00<00:00, 745.70it/s]\n",
            "Crossover: 100%|██████████| 3/3 [00:00<00:00, 857.67it/s]\n",
            "Crossover: 100%|██████████| 3/3 [00:00<00:00, 541.50it/s]\n",
            "Crossover: 100%|██████████| 3/3 [00:00<00:00, 1045.27it/s]\n",
            "Crossover: 100%|██████████| 3/3 [00:00<00:00, 1678.84it/s]\n",
            "Crossover: 100%|██████████| 3/3 [00:00<00:00, 1833.71it/s]\n",
            "Crossover: 100%|██████████| 3/3 [00:00<00:00, 1747.87it/s]\n",
            "Crossover: 100%|██████████| 3/3 [00:00<00:00, 391.64it/s]\n",
            "Crossover: 100%|██████████| 3/3 [00:00<00:00, 1201.23it/s]\n",
            "Crossover: 100%|██████████| 3/3 [00:00<00:00, 1360.61it/s]\n",
            "Crossover: 100%|██████████| 3/3 [00:00<00:00, 1667.94it/s]\n",
            "Crossover: 100%|██████████| 3/3 [00:00<00:00, 763.06it/s]\n",
            "Crossover: 100%|██████████| 3/3 [00:00<00:00, 807.32it/s]\n",
            "Crossover: 100%|██████████| 3/3 [00:00<00:00, 1258.29it/s]\n",
            "Crossover: 100%|██████████| 3/3 [00:00<00:00, 755.87it/s]\n"
          ]
        },
        {
          "output_type": "stream",
          "name": "stdout",
          "text": [
            "-----------------------------------------------------------------\n",
            "Best solution for initial population size of 10000 and number \n",
            "            of runs 100 is \n",
            "                              Route  Cost\n",
            "0  [5, 10, 8, 2, 7, 4, 1, 3, 9, 6]  6642\n",
            "Generated 200(0.006%) of the 3628800 solutions\n",
            "Total distance travelled to cover the final route of \n",
            " Bangalore => Chennai => Hyderabad => Kolkata => Varanasi => Agra => Delhi => Jaipur => Udaipur => Mumbai => Mysore => Bangalore is 6642 KM.\n",
            "             (Generated from initial population size of 10000)\n",
            "-----------------------------------------------------------------\n"
          ]
        }
      ]
    },
    {
      "cell_type": "code",
      "metadata": {
        "colab": {
          "base_uri": "https://localhost:8080/",
          "height": 1000
        },
        "id": "IaYn9kZXLeOq",
        "outputId": "fce56cda-b109-4008-f970-ec672b0ae104"
      },
      "source": [
        "# Adding the starting point i.e bangalore in this case\n",
        "final_route = [0]\n",
        "final_route.extend(best_sol[0][\"Route\"].values[0])\n",
        "final_route.append(0)\n",
        "\n",
        "# creating a lisot with naplot_objectes\n",
        "final_route_naplot_objectes = []\n",
        "for i in final_route:\n",
        "    final_route_naplot_objectes.append(data1.index[i])\n",
        "\n",
        "lat_lon = pd.read_csv(\"city_lat_lon.csv\")\n",
        "\n",
        "\n",
        "fig=Figure(height=1000,width=750)\n",
        "plot_object=folium.Map(location=[12.9716, 77.5946],tiles='cartodbpositron',zoom_start=5)\n",
        "fig.add_child(plot_object)\n",
        "\n",
        "coordinates = []\n",
        "for i in final_route_naplot_objectes:\n",
        "    lat,lon = lat_lon[lat_lon.City == i][\"Lat\"].values[0],lat_lon[lat_lon.City == i][\"Lon\"].values[0]\n",
        "    folio_group_object = folium.FeatureGroup(\"Route\")\n",
        "    coordinates.append([lat,lon])\n",
        "    line_1=folium.vector_layers.PolyLine(coordinates,popup='<b>Best path</b>',tooltip='Route',color='blue',\n",
        "                                         weight=2).add_to(folio_group_object)\n",
        "    line_1.add_to(plot_object)\n",
        "plot_object"
      ],
      "execution_count": 26,
      "outputs": [
        {
          "output_type": "execute_result",
          "data": {
            "text/html": [
              "<iframe src=\"about:blank\" width=\"750\" height=\"1000\"style=\"border:none !important;\" data-html=%3C%21DOCTYPE%20html%3E%0A%3Chead%3E%20%20%20%20%0A%20%20%20%20%3Cmeta%20http-equiv%3D%22content-type%22%20content%3D%22text/html%3B%20charset%3DUTF-8%22%20/%3E%0A%20%20%20%20%3Cscript%3EL_PREFER_CANVAS%3Dfalse%3B%20L_NO_TOUCH%3Dfalse%3B%20L_DISABLE_3D%3Dfalse%3B%3C/script%3E%0A%20%20%20%20%3Cscript%20src%3D%22https%3A//cdn.jsdelivr.net/npm/leaflet%401.4.0/dist/leaflet.js%22%3E%3C/script%3E%0A%20%20%20%20%3Cscript%20src%3D%22https%3A//code.jquery.com/jquery-1.12.4.min.js%22%3E%3C/script%3E%0A%20%20%20%20%3Cscript%20src%3D%22https%3A//maxcdn.bootstrapcdn.com/bootstrap/3.2.0/js/bootstrap.min.js%22%3E%3C/script%3E%0A%20%20%20%20%3Cscript%20src%3D%22https%3A//cdnjs.cloudflare.com/ajax/libs/Leaflet.awesome-markers/2.0.2/leaflet.awesome-markers.js%22%3E%3C/script%3E%0A%20%20%20%20%3Clink%20rel%3D%22stylesheet%22%20href%3D%22https%3A//cdn.jsdelivr.net/npm/leaflet%401.4.0/dist/leaflet.css%22/%3E%0A%20%20%20%20%3Clink%20rel%3D%22stylesheet%22%20href%3D%22https%3A//maxcdn.bootstrapcdn.com/bootstrap/3.2.0/css/bootstrap.min.css%22/%3E%0A%20%20%20%20%3Clink%20rel%3D%22stylesheet%22%20href%3D%22https%3A//maxcdn.bootstrapcdn.com/bootstrap/3.2.0/css/bootstrap-theme.min.css%22/%3E%0A%20%20%20%20%3Clink%20rel%3D%22stylesheet%22%20href%3D%22https%3A//maxcdn.bootstrapcdn.com/font-awesome/4.6.3/css/font-awesome.min.css%22/%3E%0A%20%20%20%20%3Clink%20rel%3D%22stylesheet%22%20href%3D%22https%3A//cdnjs.cloudflare.com/ajax/libs/Leaflet.awesome-markers/2.0.2/leaflet.awesome-markers.css%22/%3E%0A%20%20%20%20%3Clink%20rel%3D%22stylesheet%22%20href%3D%22https%3A//rawcdn.githack.com/python-visualization/folium/master/folium/templates/leaflet.awesome.rotate.css%22/%3E%0A%20%20%20%20%3Cstyle%3Ehtml%2C%20body%20%7Bwidth%3A%20100%25%3Bheight%3A%20100%25%3Bmargin%3A%200%3Bpadding%3A%200%3B%7D%3C/style%3E%0A%20%20%20%20%3Cstyle%3E%23map%20%7Bposition%3Aabsolute%3Btop%3A0%3Bbottom%3A0%3Bright%3A0%3Bleft%3A0%3B%7D%3C/style%3E%0A%20%20%20%20%0A%20%20%20%20%3Cmeta%20name%3D%22viewport%22%20content%3D%22width%3Ddevice-width%2C%0A%20%20%20%20%20%20%20%20initial-scale%3D1.0%2C%20maximum-scale%3D1.0%2C%20user-scalable%3Dno%22%20/%3E%0A%20%20%20%20%3Cstyle%3E%23map_e0a8c029beeb49229f9b6e981ccba026%20%7B%0A%20%20%20%20%20%20%20%20position%3A%20relative%3B%0A%20%20%20%20%20%20%20%20width%3A%20100.0%25%3B%0A%20%20%20%20%20%20%20%20height%3A%20100.0%25%3B%0A%20%20%20%20%20%20%20%20left%3A%200.0%25%3B%0A%20%20%20%20%20%20%20%20top%3A%200.0%25%3B%0A%20%20%20%20%20%20%20%20%7D%0A%20%20%20%20%3C/style%3E%0A%3C/head%3E%0A%3Cbody%3E%20%20%20%20%0A%20%20%20%20%0A%20%20%20%20%3Cdiv%20class%3D%22folium-map%22%20id%3D%22map_e0a8c029beeb49229f9b6e981ccba026%22%20%3E%3C/div%3E%0A%3C/body%3E%0A%3Cscript%3E%20%20%20%20%0A%20%20%20%20%0A%20%20%20%20%0A%20%20%20%20%20%20%20%20var%20bounds%20%3D%20null%3B%0A%20%20%20%20%0A%0A%20%20%20%20var%20map_e0a8c029beeb49229f9b6e981ccba026%20%3D%20L.map%28%0A%20%20%20%20%20%20%20%20%27map_e0a8c029beeb49229f9b6e981ccba026%27%2C%20%7B%0A%20%20%20%20%20%20%20%20center%3A%20%5B12.9716%2C%2077.5946%5D%2C%0A%20%20%20%20%20%20%20%20zoom%3A%205%2C%0A%20%20%20%20%20%20%20%20maxBounds%3A%20bounds%2C%0A%20%20%20%20%20%20%20%20layers%3A%20%5B%5D%2C%0A%20%20%20%20%20%20%20%20worldCopyJump%3A%20false%2C%0A%20%20%20%20%20%20%20%20crs%3A%20L.CRS.EPSG3857%2C%0A%20%20%20%20%20%20%20%20zoomControl%3A%20true%2C%0A%20%20%20%20%20%20%20%20%7D%29%3B%0A%0A%0A%20%20%20%20%0A%20%20%20%20var%20tile_layer_e4a48763d36940c4b5f7d2ccfe0f1f50%20%3D%20L.tileLayer%28%0A%20%20%20%20%20%20%20%20%27https%3A//cartodb-basemaps-%7Bs%7D.global.ssl.fastly.net/light_all/%7Bz%7D/%7Bx%7D/%7By%7D.png%27%2C%0A%20%20%20%20%20%20%20%20%7B%0A%20%20%20%20%20%20%20%20%22attribution%22%3A%20null%2C%0A%20%20%20%20%20%20%20%20%22detectRetina%22%3A%20false%2C%0A%20%20%20%20%20%20%20%20%22maxNativeZoom%22%3A%2018%2C%0A%20%20%20%20%20%20%20%20%22maxZoom%22%3A%2018%2C%0A%20%20%20%20%20%20%20%20%22minZoom%22%3A%200%2C%0A%20%20%20%20%20%20%20%20%22noWrap%22%3A%20false%2C%0A%20%20%20%20%20%20%20%20%22opacity%22%3A%201%2C%0A%20%20%20%20%20%20%20%20%22subdomains%22%3A%20%22abc%22%2C%0A%20%20%20%20%20%20%20%20%22tms%22%3A%20false%0A%7D%29.addTo%28map_e0a8c029beeb49229f9b6e981ccba026%29%3B%0A%20%20%20%20%0A%20%20%20%20%20%20%20%20%20%20%20%20%20%20%20%20var%20poly_line_0992e6ba9b81454eae41007be6d7c23a%20%3D%20L.polyline%28%0A%20%20%20%20%20%20%20%20%20%20%20%20%20%20%20%20%20%20%20%20%5B%5B12.9716%2C%2077.5946%5D%5D%2C%0A%20%20%20%20%20%20%20%20%20%20%20%20%20%20%20%20%20%20%20%20%7B%0A%20%20%22bubblingMouseEvents%22%3A%20true%2C%0A%20%20%22color%22%3A%20%22blue%22%2C%0A%20%20%22dashArray%22%3A%20null%2C%0A%20%20%22dashOffset%22%3A%20null%2C%0A%20%20%22fill%22%3A%20false%2C%0A%20%20%22fillColor%22%3A%20%22blue%22%2C%0A%20%20%22fillOpacity%22%3A%200.2%2C%0A%20%20%22fillRule%22%3A%20%22evenodd%22%2C%0A%20%20%22lineCap%22%3A%20%22round%22%2C%0A%20%20%22lineJoin%22%3A%20%22round%22%2C%0A%20%20%22noClip%22%3A%20false%2C%0A%20%20%22opacity%22%3A%201.0%2C%0A%20%20%22smoothFactor%22%3A%201.0%2C%0A%20%20%22stroke%22%3A%20true%2C%0A%20%20%22weight%22%3A%202%0A%7D%0A%20%20%20%20%20%20%20%20%20%20%20%20%20%20%20%20%20%20%20%20%29%0A%20%20%20%20%20%20%20%20%20%20%20%20%20%20%20%20%20%20%20%20.addTo%28map_e0a8c029beeb49229f9b6e981ccba026%29%3B%0A%20%20%20%20%20%20%20%20%20%20%20%20%0A%20%20%20%20%0A%20%20%20%20%20%20%20%20%20%20%20%20var%20popup_6fdc36f298a04ad0a797d669120947c4%20%3D%20L.popup%28%7BmaxWidth%3A%20%27100%25%27%0A%20%20%20%20%20%20%20%20%20%20%20%20%0A%20%20%20%20%20%20%20%20%20%20%20%20%7D%29%3B%0A%0A%20%20%20%20%20%20%20%20%20%20%20%20%0A%20%20%20%20%20%20%20%20%20%20%20%20%20%20%20%20var%20html_5bedbdbd3813484c8a87f0587d9c6ff2%20%3D%20%24%28%60%3Cdiv%20id%3D%22html_5bedbdbd3813484c8a87f0587d9c6ff2%22%20style%3D%22width%3A%20100.0%25%3B%20height%3A%20100.0%25%3B%22%3E%3Cb%3EBest%20path%3C/b%3E%3C/div%3E%60%29%5B0%5D%3B%0A%20%20%20%20%20%20%20%20%20%20%20%20%20%20%20%20popup_6fdc36f298a04ad0a797d669120947c4.setContent%28html_5bedbdbd3813484c8a87f0587d9c6ff2%29%3B%0A%20%20%20%20%20%20%20%20%20%20%20%20%0A%0A%20%20%20%20%20%20%20%20%20%20%20%20poly_line_0992e6ba9b81454eae41007be6d7c23a.bindPopup%28popup_6fdc36f298a04ad0a797d669120947c4%29%0A%20%20%20%20%20%20%20%20%20%20%20%20%3B%0A%0A%20%20%20%20%20%20%20%20%20%20%20%20%0A%20%20%20%20%20%20%20%20%0A%20%20%20%20%0A%20%20%20%20%20%20%20%20poly_line_0992e6ba9b81454eae41007be6d7c23a.bindTooltip%28%0A%20%20%20%20%20%20%20%20%20%20%20%20%60%3Cdiv%3E%60%0A%20%20%20%20%20%20%20%20%20%20%20%20%2B%20%60Route%60%20%2B%20%60%3C/div%3E%60%2C%0A%20%20%20%20%20%20%20%20%20%20%20%20%7B%22sticky%22%3A%20true%7D%0A%20%20%20%20%20%20%20%20%29%3B%0A%20%20%20%20%20%20%20%20%0A%20%20%20%20%0A%20%20%20%20%20%20%20%20%20%20%20%20%20%20%20%20var%20poly_line_dd53b259edaa4e0d93936e6c13416ae7%20%3D%20L.polyline%28%0A%20%20%20%20%20%20%20%20%20%20%20%20%20%20%20%20%20%20%20%20%5B%5B12.9716%2C%2077.5946%5D%2C%20%5B13.0827%2C%2080.2707%5D%5D%2C%0A%20%20%20%20%20%20%20%20%20%20%20%20%20%20%20%20%20%20%20%20%7B%0A%20%20%22bubblingMouseEvents%22%3A%20true%2C%0A%20%20%22color%22%3A%20%22blue%22%2C%0A%20%20%22dashArray%22%3A%20null%2C%0A%20%20%22dashOffset%22%3A%20null%2C%0A%20%20%22fill%22%3A%20false%2C%0A%20%20%22fillColor%22%3A%20%22blue%22%2C%0A%20%20%22fillOpacity%22%3A%200.2%2C%0A%20%20%22fillRule%22%3A%20%22evenodd%22%2C%0A%20%20%22lineCap%22%3A%20%22round%22%2C%0A%20%20%22lineJoin%22%3A%20%22round%22%2C%0A%20%20%22noClip%22%3A%20false%2C%0A%20%20%22opacity%22%3A%201.0%2C%0A%20%20%22smoothFactor%22%3A%201.0%2C%0A%20%20%22stroke%22%3A%20true%2C%0A%20%20%22weight%22%3A%202%0A%7D%0A%20%20%20%20%20%20%20%20%20%20%20%20%20%20%20%20%20%20%20%20%29%0A%20%20%20%20%20%20%20%20%20%20%20%20%20%20%20%20%20%20%20%20.addTo%28map_e0a8c029beeb49229f9b6e981ccba026%29%3B%0A%20%20%20%20%20%20%20%20%20%20%20%20%0A%20%20%20%20%0A%20%20%20%20%20%20%20%20%20%20%20%20var%20popup_6b634ff2bdbc42eebeab03e2842a7d1d%20%3D%20L.popup%28%7BmaxWidth%3A%20%27100%25%27%0A%20%20%20%20%20%20%20%20%20%20%20%20%0A%20%20%20%20%20%20%20%20%20%20%20%20%7D%29%3B%0A%0A%20%20%20%20%20%20%20%20%20%20%20%20%0A%20%20%20%20%20%20%20%20%20%20%20%20%20%20%20%20var%20html_d3aaafca6a3f416eb11dc99e84d9fd15%20%3D%20%24%28%60%3Cdiv%20id%3D%22html_d3aaafca6a3f416eb11dc99e84d9fd15%22%20style%3D%22width%3A%20100.0%25%3B%20height%3A%20100.0%25%3B%22%3E%3Cb%3EBest%20path%3C/b%3E%3C/div%3E%60%29%5B0%5D%3B%0A%20%20%20%20%20%20%20%20%20%20%20%20%20%20%20%20popup_6b634ff2bdbc42eebeab03e2842a7d1d.setContent%28html_d3aaafca6a3f416eb11dc99e84d9fd15%29%3B%0A%20%20%20%20%20%20%20%20%20%20%20%20%0A%0A%20%20%20%20%20%20%20%20%20%20%20%20poly_line_dd53b259edaa4e0d93936e6c13416ae7.bindPopup%28popup_6b634ff2bdbc42eebeab03e2842a7d1d%29%0A%20%20%20%20%20%20%20%20%20%20%20%20%3B%0A%0A%20%20%20%20%20%20%20%20%20%20%20%20%0A%20%20%20%20%20%20%20%20%0A%20%20%20%20%0A%20%20%20%20%20%20%20%20poly_line_dd53b259edaa4e0d93936e6c13416ae7.bindTooltip%28%0A%20%20%20%20%20%20%20%20%20%20%20%20%60%3Cdiv%3E%60%0A%20%20%20%20%20%20%20%20%20%20%20%20%2B%20%60Route%60%20%2B%20%60%3C/div%3E%60%2C%0A%20%20%20%20%20%20%20%20%20%20%20%20%7B%22sticky%22%3A%20true%7D%0A%20%20%20%20%20%20%20%20%29%3B%0A%20%20%20%20%20%20%20%20%0A%20%20%20%20%0A%20%20%20%20%20%20%20%20%20%20%20%20%20%20%20%20var%20poly_line_2e1d8452147b45fb880ff6c64e9982ee%20%3D%20L.polyline%28%0A%20%20%20%20%20%20%20%20%20%20%20%20%20%20%20%20%20%20%20%20%5B%5B12.9716%2C%2077.5946%5D%2C%20%5B13.0827%2C%2080.2707%5D%2C%20%5B17.385%2C%2078.4867%5D%5D%2C%0A%20%20%20%20%20%20%20%20%20%20%20%20%20%20%20%20%20%20%20%20%7B%0A%20%20%22bubblingMouseEvents%22%3A%20true%2C%0A%20%20%22color%22%3A%20%22blue%22%2C%0A%20%20%22dashArray%22%3A%20null%2C%0A%20%20%22dashOffset%22%3A%20null%2C%0A%20%20%22fill%22%3A%20false%2C%0A%20%20%22fillColor%22%3A%20%22blue%22%2C%0A%20%20%22fillOpacity%22%3A%200.2%2C%0A%20%20%22fillRule%22%3A%20%22evenodd%22%2C%0A%20%20%22lineCap%22%3A%20%22round%22%2C%0A%20%20%22lineJoin%22%3A%20%22round%22%2C%0A%20%20%22noClip%22%3A%20false%2C%0A%20%20%22opacity%22%3A%201.0%2C%0A%20%20%22smoothFactor%22%3A%201.0%2C%0A%20%20%22stroke%22%3A%20true%2C%0A%20%20%22weight%22%3A%202%0A%7D%0A%20%20%20%20%20%20%20%20%20%20%20%20%20%20%20%20%20%20%20%20%29%0A%20%20%20%20%20%20%20%20%20%20%20%20%20%20%20%20%20%20%20%20.addTo%28map_e0a8c029beeb49229f9b6e981ccba026%29%3B%0A%20%20%20%20%20%20%20%20%20%20%20%20%0A%20%20%20%20%0A%20%20%20%20%20%20%20%20%20%20%20%20var%20popup_ff8db10d28f54655ac8ac7cbdc9b08f7%20%3D%20L.popup%28%7BmaxWidth%3A%20%27100%25%27%0A%20%20%20%20%20%20%20%20%20%20%20%20%0A%20%20%20%20%20%20%20%20%20%20%20%20%7D%29%3B%0A%0A%20%20%20%20%20%20%20%20%20%20%20%20%0A%20%20%20%20%20%20%20%20%20%20%20%20%20%20%20%20var%20html_634dc140052b4c74ad93a7164070b0ce%20%3D%20%24%28%60%3Cdiv%20id%3D%22html_634dc140052b4c74ad93a7164070b0ce%22%20style%3D%22width%3A%20100.0%25%3B%20height%3A%20100.0%25%3B%22%3E%3Cb%3EBest%20path%3C/b%3E%3C/div%3E%60%29%5B0%5D%3B%0A%20%20%20%20%20%20%20%20%20%20%20%20%20%20%20%20popup_ff8db10d28f54655ac8ac7cbdc9b08f7.setContent%28html_634dc140052b4c74ad93a7164070b0ce%29%3B%0A%20%20%20%20%20%20%20%20%20%20%20%20%0A%0A%20%20%20%20%20%20%20%20%20%20%20%20poly_line_2e1d8452147b45fb880ff6c64e9982ee.bindPopup%28popup_ff8db10d28f54655ac8ac7cbdc9b08f7%29%0A%20%20%20%20%20%20%20%20%20%20%20%20%3B%0A%0A%20%20%20%20%20%20%20%20%20%20%20%20%0A%20%20%20%20%20%20%20%20%0A%20%20%20%20%0A%20%20%20%20%20%20%20%20poly_line_2e1d8452147b45fb880ff6c64e9982ee.bindTooltip%28%0A%20%20%20%20%20%20%20%20%20%20%20%20%60%3Cdiv%3E%60%0A%20%20%20%20%20%20%20%20%20%20%20%20%2B%20%60Route%60%20%2B%20%60%3C/div%3E%60%2C%0A%20%20%20%20%20%20%20%20%20%20%20%20%7B%22sticky%22%3A%20true%7D%0A%20%20%20%20%20%20%20%20%29%3B%0A%20%20%20%20%20%20%20%20%0A%20%20%20%20%0A%20%20%20%20%20%20%20%20%20%20%20%20%20%20%20%20var%20poly_line_eff2304986054ac285077d844690c781%20%3D%20L.polyline%28%0A%20%20%20%20%20%20%20%20%20%20%20%20%20%20%20%20%20%20%20%20%5B%5B12.9716%2C%2077.5946%5D%2C%20%5B13.0827%2C%2080.2707%5D%2C%20%5B17.385%2C%2078.4867%5D%2C%20%5B22.5726%2C%2088.3639%5D%5D%2C%0A%20%20%20%20%20%20%20%20%20%20%20%20%20%20%20%20%20%20%20%20%7B%0A%20%20%22bubblingMouseEvents%22%3A%20true%2C%0A%20%20%22color%22%3A%20%22blue%22%2C%0A%20%20%22dashArray%22%3A%20null%2C%0A%20%20%22dashOffset%22%3A%20null%2C%0A%20%20%22fill%22%3A%20false%2C%0A%20%20%22fillColor%22%3A%20%22blue%22%2C%0A%20%20%22fillOpacity%22%3A%200.2%2C%0A%20%20%22fillRule%22%3A%20%22evenodd%22%2C%0A%20%20%22lineCap%22%3A%20%22round%22%2C%0A%20%20%22lineJoin%22%3A%20%22round%22%2C%0A%20%20%22noClip%22%3A%20false%2C%0A%20%20%22opacity%22%3A%201.0%2C%0A%20%20%22smoothFactor%22%3A%201.0%2C%0A%20%20%22stroke%22%3A%20true%2C%0A%20%20%22weight%22%3A%202%0A%7D%0A%20%20%20%20%20%20%20%20%20%20%20%20%20%20%20%20%20%20%20%20%29%0A%20%20%20%20%20%20%20%20%20%20%20%20%20%20%20%20%20%20%20%20.addTo%28map_e0a8c029beeb49229f9b6e981ccba026%29%3B%0A%20%20%20%20%20%20%20%20%20%20%20%20%0A%20%20%20%20%0A%20%20%20%20%20%20%20%20%20%20%20%20var%20popup_8463b8edd32b4fbe9f2009a6cded1664%20%3D%20L.popup%28%7BmaxWidth%3A%20%27100%25%27%0A%20%20%20%20%20%20%20%20%20%20%20%20%0A%20%20%20%20%20%20%20%20%20%20%20%20%7D%29%3B%0A%0A%20%20%20%20%20%20%20%20%20%20%20%20%0A%20%20%20%20%20%20%20%20%20%20%20%20%20%20%20%20var%20html_3a32452a33f64c16a8b71b95545c47e9%20%3D%20%24%28%60%3Cdiv%20id%3D%22html_3a32452a33f64c16a8b71b95545c47e9%22%20style%3D%22width%3A%20100.0%25%3B%20height%3A%20100.0%25%3B%22%3E%3Cb%3EBest%20path%3C/b%3E%3C/div%3E%60%29%5B0%5D%3B%0A%20%20%20%20%20%20%20%20%20%20%20%20%20%20%20%20popup_8463b8edd32b4fbe9f2009a6cded1664.setContent%28html_3a32452a33f64c16a8b71b95545c47e9%29%3B%0A%20%20%20%20%20%20%20%20%20%20%20%20%0A%0A%20%20%20%20%20%20%20%20%20%20%20%20poly_line_eff2304986054ac285077d844690c781.bindPopup%28popup_8463b8edd32b4fbe9f2009a6cded1664%29%0A%20%20%20%20%20%20%20%20%20%20%20%20%3B%0A%0A%20%20%20%20%20%20%20%20%20%20%20%20%0A%20%20%20%20%20%20%20%20%0A%20%20%20%20%0A%20%20%20%20%20%20%20%20poly_line_eff2304986054ac285077d844690c781.bindTooltip%28%0A%20%20%20%20%20%20%20%20%20%20%20%20%60%3Cdiv%3E%60%0A%20%20%20%20%20%20%20%20%20%20%20%20%2B%20%60Route%60%20%2B%20%60%3C/div%3E%60%2C%0A%20%20%20%20%20%20%20%20%20%20%20%20%7B%22sticky%22%3A%20true%7D%0A%20%20%20%20%20%20%20%20%29%3B%0A%20%20%20%20%20%20%20%20%0A%20%20%20%20%0A%20%20%20%20%20%20%20%20%20%20%20%20%20%20%20%20var%20poly_line_b9f1bff661fb4a38b7695233a08496c8%20%3D%20L.polyline%28%0A%20%20%20%20%20%20%20%20%20%20%20%20%20%20%20%20%20%20%20%20%5B%5B12.9716%2C%2077.5946%5D%2C%20%5B13.0827%2C%2080.2707%5D%2C%20%5B17.385%2C%2078.4867%5D%2C%20%5B22.5726%2C%2088.3639%5D%2C%20%5B25.3176%2C%2082.9739%5D%5D%2C%0A%20%20%20%20%20%20%20%20%20%20%20%20%20%20%20%20%20%20%20%20%7B%0A%20%20%22bubblingMouseEvents%22%3A%20true%2C%0A%20%20%22color%22%3A%20%22blue%22%2C%0A%20%20%22dashArray%22%3A%20null%2C%0A%20%20%22dashOffset%22%3A%20null%2C%0A%20%20%22fill%22%3A%20false%2C%0A%20%20%22fillColor%22%3A%20%22blue%22%2C%0A%20%20%22fillOpacity%22%3A%200.2%2C%0A%20%20%22fillRule%22%3A%20%22evenodd%22%2C%0A%20%20%22lineCap%22%3A%20%22round%22%2C%0A%20%20%22lineJoin%22%3A%20%22round%22%2C%0A%20%20%22noClip%22%3A%20false%2C%0A%20%20%22opacity%22%3A%201.0%2C%0A%20%20%22smoothFactor%22%3A%201.0%2C%0A%20%20%22stroke%22%3A%20true%2C%0A%20%20%22weight%22%3A%202%0A%7D%0A%20%20%20%20%20%20%20%20%20%20%20%20%20%20%20%20%20%20%20%20%29%0A%20%20%20%20%20%20%20%20%20%20%20%20%20%20%20%20%20%20%20%20.addTo%28map_e0a8c029beeb49229f9b6e981ccba026%29%3B%0A%20%20%20%20%20%20%20%20%20%20%20%20%0A%20%20%20%20%0A%20%20%20%20%20%20%20%20%20%20%20%20var%20popup_7e72b6d4712b452ea5bcbc3e8364384f%20%3D%20L.popup%28%7BmaxWidth%3A%20%27100%25%27%0A%20%20%20%20%20%20%20%20%20%20%20%20%0A%20%20%20%20%20%20%20%20%20%20%20%20%7D%29%3B%0A%0A%20%20%20%20%20%20%20%20%20%20%20%20%0A%20%20%20%20%20%20%20%20%20%20%20%20%20%20%20%20var%20html_c1035e3cbbc34c8cbfb3efdbcc986358%20%3D%20%24%28%60%3Cdiv%20id%3D%22html_c1035e3cbbc34c8cbfb3efdbcc986358%22%20style%3D%22width%3A%20100.0%25%3B%20height%3A%20100.0%25%3B%22%3E%3Cb%3EBest%20path%3C/b%3E%3C/div%3E%60%29%5B0%5D%3B%0A%20%20%20%20%20%20%20%20%20%20%20%20%20%20%20%20popup_7e72b6d4712b452ea5bcbc3e8364384f.setContent%28html_c1035e3cbbc34c8cbfb3efdbcc986358%29%3B%0A%20%20%20%20%20%20%20%20%20%20%20%20%0A%0A%20%20%20%20%20%20%20%20%20%20%20%20poly_line_b9f1bff661fb4a38b7695233a08496c8.bindPopup%28popup_7e72b6d4712b452ea5bcbc3e8364384f%29%0A%20%20%20%20%20%20%20%20%20%20%20%20%3B%0A%0A%20%20%20%20%20%20%20%20%20%20%20%20%0A%20%20%20%20%20%20%20%20%0A%20%20%20%20%0A%20%20%20%20%20%20%20%20poly_line_b9f1bff661fb4a38b7695233a08496c8.bindTooltip%28%0A%20%20%20%20%20%20%20%20%20%20%20%20%60%3Cdiv%3E%60%0A%20%20%20%20%20%20%20%20%20%20%20%20%2B%20%60Route%60%20%2B%20%60%3C/div%3E%60%2C%0A%20%20%20%20%20%20%20%20%20%20%20%20%7B%22sticky%22%3A%20true%7D%0A%20%20%20%20%20%20%20%20%29%3B%0A%20%20%20%20%20%20%20%20%0A%20%20%20%20%0A%20%20%20%20%20%20%20%20%20%20%20%20%20%20%20%20var%20poly_line_a5442cc18c9b42ab97d162665fb3c67e%20%3D%20L.polyline%28%0A%20%20%20%20%20%20%20%20%20%20%20%20%20%20%20%20%20%20%20%20%5B%5B12.9716%2C%2077.5946%5D%2C%20%5B13.0827%2C%2080.2707%5D%2C%20%5B17.385%2C%2078.4867%5D%2C%20%5B22.5726%2C%2088.3639%5D%2C%20%5B25.3176%2C%2082.9739%5D%2C%20%5B27.1767%2C%2078.0081%5D%5D%2C%0A%20%20%20%20%20%20%20%20%20%20%20%20%20%20%20%20%20%20%20%20%7B%0A%20%20%22bubblingMouseEvents%22%3A%20true%2C%0A%20%20%22color%22%3A%20%22blue%22%2C%0A%20%20%22dashArray%22%3A%20null%2C%0A%20%20%22dashOffset%22%3A%20null%2C%0A%20%20%22fill%22%3A%20false%2C%0A%20%20%22fillColor%22%3A%20%22blue%22%2C%0A%20%20%22fillOpacity%22%3A%200.2%2C%0A%20%20%22fillRule%22%3A%20%22evenodd%22%2C%0A%20%20%22lineCap%22%3A%20%22round%22%2C%0A%20%20%22lineJoin%22%3A%20%22round%22%2C%0A%20%20%22noClip%22%3A%20false%2C%0A%20%20%22opacity%22%3A%201.0%2C%0A%20%20%22smoothFactor%22%3A%201.0%2C%0A%20%20%22stroke%22%3A%20true%2C%0A%20%20%22weight%22%3A%202%0A%7D%0A%20%20%20%20%20%20%20%20%20%20%20%20%20%20%20%20%20%20%20%20%29%0A%20%20%20%20%20%20%20%20%20%20%20%20%20%20%20%20%20%20%20%20.addTo%28map_e0a8c029beeb49229f9b6e981ccba026%29%3B%0A%20%20%20%20%20%20%20%20%20%20%20%20%0A%20%20%20%20%0A%20%20%20%20%20%20%20%20%20%20%20%20var%20popup_0b02650fe1f74591a8d225f441df2042%20%3D%20L.popup%28%7BmaxWidth%3A%20%27100%25%27%0A%20%20%20%20%20%20%20%20%20%20%20%20%0A%20%20%20%20%20%20%20%20%20%20%20%20%7D%29%3B%0A%0A%20%20%20%20%20%20%20%20%20%20%20%20%0A%20%20%20%20%20%20%20%20%20%20%20%20%20%20%20%20var%20html_bd66524040e940ffabb1b89e75e4eccb%20%3D%20%24%28%60%3Cdiv%20id%3D%22html_bd66524040e940ffabb1b89e75e4eccb%22%20style%3D%22width%3A%20100.0%25%3B%20height%3A%20100.0%25%3B%22%3E%3Cb%3EBest%20path%3C/b%3E%3C/div%3E%60%29%5B0%5D%3B%0A%20%20%20%20%20%20%20%20%20%20%20%20%20%20%20%20popup_0b02650fe1f74591a8d225f441df2042.setContent%28html_bd66524040e940ffabb1b89e75e4eccb%29%3B%0A%20%20%20%20%20%20%20%20%20%20%20%20%0A%0A%20%20%20%20%20%20%20%20%20%20%20%20poly_line_a5442cc18c9b42ab97d162665fb3c67e.bindPopup%28popup_0b02650fe1f74591a8d225f441df2042%29%0A%20%20%20%20%20%20%20%20%20%20%20%20%3B%0A%0A%20%20%20%20%20%20%20%20%20%20%20%20%0A%20%20%20%20%20%20%20%20%0A%20%20%20%20%0A%20%20%20%20%20%20%20%20poly_line_a5442cc18c9b42ab97d162665fb3c67e.bindTooltip%28%0A%20%20%20%20%20%20%20%20%20%20%20%20%60%3Cdiv%3E%60%0A%20%20%20%20%20%20%20%20%20%20%20%20%2B%20%60Route%60%20%2B%20%60%3C/div%3E%60%2C%0A%20%20%20%20%20%20%20%20%20%20%20%20%7B%22sticky%22%3A%20true%7D%0A%20%20%20%20%20%20%20%20%29%3B%0A%20%20%20%20%20%20%20%20%0A%20%20%20%20%0A%20%20%20%20%20%20%20%20%20%20%20%20%20%20%20%20var%20poly_line_b86ae02e19d04c27a28a415433989874%20%3D%20L.polyline%28%0A%20%20%20%20%20%20%20%20%20%20%20%20%20%20%20%20%20%20%20%20%5B%5B12.9716%2C%2077.5946%5D%2C%20%5B13.0827%2C%2080.2707%5D%2C%20%5B17.385%2C%2078.4867%5D%2C%20%5B22.5726%2C%2088.3639%5D%2C%20%5B25.3176%2C%2082.9739%5D%2C%20%5B27.1767%2C%2078.0081%5D%2C%20%5B28.7041%2C%2077.1025%5D%5D%2C%0A%20%20%20%20%20%20%20%20%20%20%20%20%20%20%20%20%20%20%20%20%7B%0A%20%20%22bubblingMouseEvents%22%3A%20true%2C%0A%20%20%22color%22%3A%20%22blue%22%2C%0A%20%20%22dashArray%22%3A%20null%2C%0A%20%20%22dashOffset%22%3A%20null%2C%0A%20%20%22fill%22%3A%20false%2C%0A%20%20%22fillColor%22%3A%20%22blue%22%2C%0A%20%20%22fillOpacity%22%3A%200.2%2C%0A%20%20%22fillRule%22%3A%20%22evenodd%22%2C%0A%20%20%22lineCap%22%3A%20%22round%22%2C%0A%20%20%22lineJoin%22%3A%20%22round%22%2C%0A%20%20%22noClip%22%3A%20false%2C%0A%20%20%22opacity%22%3A%201.0%2C%0A%20%20%22smoothFactor%22%3A%201.0%2C%0A%20%20%22stroke%22%3A%20true%2C%0A%20%20%22weight%22%3A%202%0A%7D%0A%20%20%20%20%20%20%20%20%20%20%20%20%20%20%20%20%20%20%20%20%29%0A%20%20%20%20%20%20%20%20%20%20%20%20%20%20%20%20%20%20%20%20.addTo%28map_e0a8c029beeb49229f9b6e981ccba026%29%3B%0A%20%20%20%20%20%20%20%20%20%20%20%20%0A%20%20%20%20%0A%20%20%20%20%20%20%20%20%20%20%20%20var%20popup_44c60f767b1549f99690d0c984ebcfe1%20%3D%20L.popup%28%7BmaxWidth%3A%20%27100%25%27%0A%20%20%20%20%20%20%20%20%20%20%20%20%0A%20%20%20%20%20%20%20%20%20%20%20%20%7D%29%3B%0A%0A%20%20%20%20%20%20%20%20%20%20%20%20%0A%20%20%20%20%20%20%20%20%20%20%20%20%20%20%20%20var%20html_90dd74ad73544d7e917cb51e717511e2%20%3D%20%24%28%60%3Cdiv%20id%3D%22html_90dd74ad73544d7e917cb51e717511e2%22%20style%3D%22width%3A%20100.0%25%3B%20height%3A%20100.0%25%3B%22%3E%3Cb%3EBest%20path%3C/b%3E%3C/div%3E%60%29%5B0%5D%3B%0A%20%20%20%20%20%20%20%20%20%20%20%20%20%20%20%20popup_44c60f767b1549f99690d0c984ebcfe1.setContent%28html_90dd74ad73544d7e917cb51e717511e2%29%3B%0A%20%20%20%20%20%20%20%20%20%20%20%20%0A%0A%20%20%20%20%20%20%20%20%20%20%20%20poly_line_b86ae02e19d04c27a28a415433989874.bindPopup%28popup_44c60f767b1549f99690d0c984ebcfe1%29%0A%20%20%20%20%20%20%20%20%20%20%20%20%3B%0A%0A%20%20%20%20%20%20%20%20%20%20%20%20%0A%20%20%20%20%20%20%20%20%0A%20%20%20%20%0A%20%20%20%20%20%20%20%20poly_line_b86ae02e19d04c27a28a415433989874.bindTooltip%28%0A%20%20%20%20%20%20%20%20%20%20%20%20%60%3Cdiv%3E%60%0A%20%20%20%20%20%20%20%20%20%20%20%20%2B%20%60Route%60%20%2B%20%60%3C/div%3E%60%2C%0A%20%20%20%20%20%20%20%20%20%20%20%20%7B%22sticky%22%3A%20true%7D%0A%20%20%20%20%20%20%20%20%29%3B%0A%20%20%20%20%20%20%20%20%0A%20%20%20%20%0A%20%20%20%20%20%20%20%20%20%20%20%20%20%20%20%20var%20poly_line_f3df8da2d53f4d199c0b1343a8c10bc4%20%3D%20L.polyline%28%0A%20%20%20%20%20%20%20%20%20%20%20%20%20%20%20%20%20%20%20%20%5B%5B12.9716%2C%2077.5946%5D%2C%20%5B13.0827%2C%2080.2707%5D%2C%20%5B17.385%2C%2078.4867%5D%2C%20%5B22.5726%2C%2088.3639%5D%2C%20%5B25.3176%2C%2082.9739%5D%2C%20%5B27.1767%2C%2078.0081%5D%2C%20%5B28.7041%2C%2077.1025%5D%2C%20%5B26.9124%2C%2075.7873%5D%5D%2C%0A%20%20%20%20%20%20%20%20%20%20%20%20%20%20%20%20%20%20%20%20%7B%0A%20%20%22bubblingMouseEvents%22%3A%20true%2C%0A%20%20%22color%22%3A%20%22blue%22%2C%0A%20%20%22dashArray%22%3A%20null%2C%0A%20%20%22dashOffset%22%3A%20null%2C%0A%20%20%22fill%22%3A%20false%2C%0A%20%20%22fillColor%22%3A%20%22blue%22%2C%0A%20%20%22fillOpacity%22%3A%200.2%2C%0A%20%20%22fillRule%22%3A%20%22evenodd%22%2C%0A%20%20%22lineCap%22%3A%20%22round%22%2C%0A%20%20%22lineJoin%22%3A%20%22round%22%2C%0A%20%20%22noClip%22%3A%20false%2C%0A%20%20%22opacity%22%3A%201.0%2C%0A%20%20%22smoothFactor%22%3A%201.0%2C%0A%20%20%22stroke%22%3A%20true%2C%0A%20%20%22weight%22%3A%202%0A%7D%0A%20%20%20%20%20%20%20%20%20%20%20%20%20%20%20%20%20%20%20%20%29%0A%20%20%20%20%20%20%20%20%20%20%20%20%20%20%20%20%20%20%20%20.addTo%28map_e0a8c029beeb49229f9b6e981ccba026%29%3B%0A%20%20%20%20%20%20%20%20%20%20%20%20%0A%20%20%20%20%0A%20%20%20%20%20%20%20%20%20%20%20%20var%20popup_90d299d2b61e4354adf7289068b9bf1c%20%3D%20L.popup%28%7BmaxWidth%3A%20%27100%25%27%0A%20%20%20%20%20%20%20%20%20%20%20%20%0A%20%20%20%20%20%20%20%20%20%20%20%20%7D%29%3B%0A%0A%20%20%20%20%20%20%20%20%20%20%20%20%0A%20%20%20%20%20%20%20%20%20%20%20%20%20%20%20%20var%20html_5c2ac67f0cc3461a8949f466680e3f8b%20%3D%20%24%28%60%3Cdiv%20id%3D%22html_5c2ac67f0cc3461a8949f466680e3f8b%22%20style%3D%22width%3A%20100.0%25%3B%20height%3A%20100.0%25%3B%22%3E%3Cb%3EBest%20path%3C/b%3E%3C/div%3E%60%29%5B0%5D%3B%0A%20%20%20%20%20%20%20%20%20%20%20%20%20%20%20%20popup_90d299d2b61e4354adf7289068b9bf1c.setContent%28html_5c2ac67f0cc3461a8949f466680e3f8b%29%3B%0A%20%20%20%20%20%20%20%20%20%20%20%20%0A%0A%20%20%20%20%20%20%20%20%20%20%20%20poly_line_f3df8da2d53f4d199c0b1343a8c10bc4.bindPopup%28popup_90d299d2b61e4354adf7289068b9bf1c%29%0A%20%20%20%20%20%20%20%20%20%20%20%20%3B%0A%0A%20%20%20%20%20%20%20%20%20%20%20%20%0A%20%20%20%20%20%20%20%20%0A%20%20%20%20%0A%20%20%20%20%20%20%20%20poly_line_f3df8da2d53f4d199c0b1343a8c10bc4.bindTooltip%28%0A%20%20%20%20%20%20%20%20%20%20%20%20%60%3Cdiv%3E%60%0A%20%20%20%20%20%20%20%20%20%20%20%20%2B%20%60Route%60%20%2B%20%60%3C/div%3E%60%2C%0A%20%20%20%20%20%20%20%20%20%20%20%20%7B%22sticky%22%3A%20true%7D%0A%20%20%20%20%20%20%20%20%29%3B%0A%20%20%20%20%20%20%20%20%0A%20%20%20%20%0A%20%20%20%20%20%20%20%20%20%20%20%20%20%20%20%20var%20poly_line_3227787ffc8746f99553c675abfdbb96%20%3D%20L.polyline%28%0A%20%20%20%20%20%20%20%20%20%20%20%20%20%20%20%20%20%20%20%20%5B%5B12.9716%2C%2077.5946%5D%2C%20%5B13.0827%2C%2080.2707%5D%2C%20%5B17.385%2C%2078.4867%5D%2C%20%5B22.5726%2C%2088.3639%5D%2C%20%5B25.3176%2C%2082.9739%5D%2C%20%5B27.1767%2C%2078.0081%5D%2C%20%5B28.7041%2C%2077.1025%5D%2C%20%5B26.9124%2C%2075.7873%5D%2C%20%5B24.5854%2C%2073.7125%5D%5D%2C%0A%20%20%20%20%20%20%20%20%20%20%20%20%20%20%20%20%20%20%20%20%7B%0A%20%20%22bubblingMouseEvents%22%3A%20true%2C%0A%20%20%22color%22%3A%20%22blue%22%2C%0A%20%20%22dashArray%22%3A%20null%2C%0A%20%20%22dashOffset%22%3A%20null%2C%0A%20%20%22fill%22%3A%20false%2C%0A%20%20%22fillColor%22%3A%20%22blue%22%2C%0A%20%20%22fillOpacity%22%3A%200.2%2C%0A%20%20%22fillRule%22%3A%20%22evenodd%22%2C%0A%20%20%22lineCap%22%3A%20%22round%22%2C%0A%20%20%22lineJoin%22%3A%20%22round%22%2C%0A%20%20%22noClip%22%3A%20false%2C%0A%20%20%22opacity%22%3A%201.0%2C%0A%20%20%22smoothFactor%22%3A%201.0%2C%0A%20%20%22stroke%22%3A%20true%2C%0A%20%20%22weight%22%3A%202%0A%7D%0A%20%20%20%20%20%20%20%20%20%20%20%20%20%20%20%20%20%20%20%20%29%0A%20%20%20%20%20%20%20%20%20%20%20%20%20%20%20%20%20%20%20%20.addTo%28map_e0a8c029beeb49229f9b6e981ccba026%29%3B%0A%20%20%20%20%20%20%20%20%20%20%20%20%0A%20%20%20%20%0A%20%20%20%20%20%20%20%20%20%20%20%20var%20popup_8ad9bcfab3e84101899df64b363ef1af%20%3D%20L.popup%28%7BmaxWidth%3A%20%27100%25%27%0A%20%20%20%20%20%20%20%20%20%20%20%20%0A%20%20%20%20%20%20%20%20%20%20%20%20%7D%29%3B%0A%0A%20%20%20%20%20%20%20%20%20%20%20%20%0A%20%20%20%20%20%20%20%20%20%20%20%20%20%20%20%20var%20html_fbc69a796ce4492ca8648b6bdefb14e2%20%3D%20%24%28%60%3Cdiv%20id%3D%22html_fbc69a796ce4492ca8648b6bdefb14e2%22%20style%3D%22width%3A%20100.0%25%3B%20height%3A%20100.0%25%3B%22%3E%3Cb%3EBest%20path%3C/b%3E%3C/div%3E%60%29%5B0%5D%3B%0A%20%20%20%20%20%20%20%20%20%20%20%20%20%20%20%20popup_8ad9bcfab3e84101899df64b363ef1af.setContent%28html_fbc69a796ce4492ca8648b6bdefb14e2%29%3B%0A%20%20%20%20%20%20%20%20%20%20%20%20%0A%0A%20%20%20%20%20%20%20%20%20%20%20%20poly_line_3227787ffc8746f99553c675abfdbb96.bindPopup%28popup_8ad9bcfab3e84101899df64b363ef1af%29%0A%20%20%20%20%20%20%20%20%20%20%20%20%3B%0A%0A%20%20%20%20%20%20%20%20%20%20%20%20%0A%20%20%20%20%20%20%20%20%0A%20%20%20%20%0A%20%20%20%20%20%20%20%20poly_line_3227787ffc8746f99553c675abfdbb96.bindTooltip%28%0A%20%20%20%20%20%20%20%20%20%20%20%20%60%3Cdiv%3E%60%0A%20%20%20%20%20%20%20%20%20%20%20%20%2B%20%60Route%60%20%2B%20%60%3C/div%3E%60%2C%0A%20%20%20%20%20%20%20%20%20%20%20%20%7B%22sticky%22%3A%20true%7D%0A%20%20%20%20%20%20%20%20%29%3B%0A%20%20%20%20%20%20%20%20%0A%20%20%20%20%0A%20%20%20%20%20%20%20%20%20%20%20%20%20%20%20%20var%20poly_line_ec026013bee5470097ea7f31ff52ed5c%20%3D%20L.polyline%28%0A%20%20%20%20%20%20%20%20%20%20%20%20%20%20%20%20%20%20%20%20%5B%5B12.9716%2C%2077.5946%5D%2C%20%5B13.0827%2C%2080.2707%5D%2C%20%5B17.385%2C%2078.4867%5D%2C%20%5B22.5726%2C%2088.3639%5D%2C%20%5B25.3176%2C%2082.9739%5D%2C%20%5B27.1767%2C%2078.0081%5D%2C%20%5B28.7041%2C%2077.1025%5D%2C%20%5B26.9124%2C%2075.7873%5D%2C%20%5B24.5854%2C%2073.7125%5D%2C%20%5B19.076%2C%2072.8777%5D%5D%2C%0A%20%20%20%20%20%20%20%20%20%20%20%20%20%20%20%20%20%20%20%20%7B%0A%20%20%22bubblingMouseEvents%22%3A%20true%2C%0A%20%20%22color%22%3A%20%22blue%22%2C%0A%20%20%22dashArray%22%3A%20null%2C%0A%20%20%22dashOffset%22%3A%20null%2C%0A%20%20%22fill%22%3A%20false%2C%0A%20%20%22fillColor%22%3A%20%22blue%22%2C%0A%20%20%22fillOpacity%22%3A%200.2%2C%0A%20%20%22fillRule%22%3A%20%22evenodd%22%2C%0A%20%20%22lineCap%22%3A%20%22round%22%2C%0A%20%20%22lineJoin%22%3A%20%22round%22%2C%0A%20%20%22noClip%22%3A%20false%2C%0A%20%20%22opacity%22%3A%201.0%2C%0A%20%20%22smoothFactor%22%3A%201.0%2C%0A%20%20%22stroke%22%3A%20true%2C%0A%20%20%22weight%22%3A%202%0A%7D%0A%20%20%20%20%20%20%20%20%20%20%20%20%20%20%20%20%20%20%20%20%29%0A%20%20%20%20%20%20%20%20%20%20%20%20%20%20%20%20%20%20%20%20.addTo%28map_e0a8c029beeb49229f9b6e981ccba026%29%3B%0A%20%20%20%20%20%20%20%20%20%20%20%20%0A%20%20%20%20%0A%20%20%20%20%20%20%20%20%20%20%20%20var%20popup_3da5bffece034087a29fce17564ee3db%20%3D%20L.popup%28%7BmaxWidth%3A%20%27100%25%27%0A%20%20%20%20%20%20%20%20%20%20%20%20%0A%20%20%20%20%20%20%20%20%20%20%20%20%7D%29%3B%0A%0A%20%20%20%20%20%20%20%20%20%20%20%20%0A%20%20%20%20%20%20%20%20%20%20%20%20%20%20%20%20var%20html_72c591bb22394397bfcd99b9c03ab57a%20%3D%20%24%28%60%3Cdiv%20id%3D%22html_72c591bb22394397bfcd99b9c03ab57a%22%20style%3D%22width%3A%20100.0%25%3B%20height%3A%20100.0%25%3B%22%3E%3Cb%3EBest%20path%3C/b%3E%3C/div%3E%60%29%5B0%5D%3B%0A%20%20%20%20%20%20%20%20%20%20%20%20%20%20%20%20popup_3da5bffece034087a29fce17564ee3db.setContent%28html_72c591bb22394397bfcd99b9c03ab57a%29%3B%0A%20%20%20%20%20%20%20%20%20%20%20%20%0A%0A%20%20%20%20%20%20%20%20%20%20%20%20poly_line_ec026013bee5470097ea7f31ff52ed5c.bindPopup%28popup_3da5bffece034087a29fce17564ee3db%29%0A%20%20%20%20%20%20%20%20%20%20%20%20%3B%0A%0A%20%20%20%20%20%20%20%20%20%20%20%20%0A%20%20%20%20%20%20%20%20%0A%20%20%20%20%0A%20%20%20%20%20%20%20%20poly_line_ec026013bee5470097ea7f31ff52ed5c.bindTooltip%28%0A%20%20%20%20%20%20%20%20%20%20%20%20%60%3Cdiv%3E%60%0A%20%20%20%20%20%20%20%20%20%20%20%20%2B%20%60Route%60%20%2B%20%60%3C/div%3E%60%2C%0A%20%20%20%20%20%20%20%20%20%20%20%20%7B%22sticky%22%3A%20true%7D%0A%20%20%20%20%20%20%20%20%29%3B%0A%20%20%20%20%20%20%20%20%0A%20%20%20%20%0A%20%20%20%20%20%20%20%20%20%20%20%20%20%20%20%20var%20poly_line_e183feb80acf4484a390d89623812da4%20%3D%20L.polyline%28%0A%20%20%20%20%20%20%20%20%20%20%20%20%20%20%20%20%20%20%20%20%5B%5B12.9716%2C%2077.5946%5D%2C%20%5B13.0827%2C%2080.2707%5D%2C%20%5B17.385%2C%2078.4867%5D%2C%20%5B22.5726%2C%2088.3639%5D%2C%20%5B25.3176%2C%2082.9739%5D%2C%20%5B27.1767%2C%2078.0081%5D%2C%20%5B28.7041%2C%2077.1025%5D%2C%20%5B26.9124%2C%2075.7873%5D%2C%20%5B24.5854%2C%2073.7125%5D%2C%20%5B19.076%2C%2072.8777%5D%2C%20%5B12.2958%2C%2076.6394%5D%5D%2C%0A%20%20%20%20%20%20%20%20%20%20%20%20%20%20%20%20%20%20%20%20%7B%0A%20%20%22bubblingMouseEvents%22%3A%20true%2C%0A%20%20%22color%22%3A%20%22blue%22%2C%0A%20%20%22dashArray%22%3A%20null%2C%0A%20%20%22dashOffset%22%3A%20null%2C%0A%20%20%22fill%22%3A%20false%2C%0A%20%20%22fillColor%22%3A%20%22blue%22%2C%0A%20%20%22fillOpacity%22%3A%200.2%2C%0A%20%20%22fillRule%22%3A%20%22evenodd%22%2C%0A%20%20%22lineCap%22%3A%20%22round%22%2C%0A%20%20%22lineJoin%22%3A%20%22round%22%2C%0A%20%20%22noClip%22%3A%20false%2C%0A%20%20%22opacity%22%3A%201.0%2C%0A%20%20%22smoothFactor%22%3A%201.0%2C%0A%20%20%22stroke%22%3A%20true%2C%0A%20%20%22weight%22%3A%202%0A%7D%0A%20%20%20%20%20%20%20%20%20%20%20%20%20%20%20%20%20%20%20%20%29%0A%20%20%20%20%20%20%20%20%20%20%20%20%20%20%20%20%20%20%20%20.addTo%28map_e0a8c029beeb49229f9b6e981ccba026%29%3B%0A%20%20%20%20%20%20%20%20%20%20%20%20%0A%20%20%20%20%0A%20%20%20%20%20%20%20%20%20%20%20%20var%20popup_8a967e7c7c8f4549aa904a00d1fe53cf%20%3D%20L.popup%28%7BmaxWidth%3A%20%27100%25%27%0A%20%20%20%20%20%20%20%20%20%20%20%20%0A%20%20%20%20%20%20%20%20%20%20%20%20%7D%29%3B%0A%0A%20%20%20%20%20%20%20%20%20%20%20%20%0A%20%20%20%20%20%20%20%20%20%20%20%20%20%20%20%20var%20html_16982cf629ae4ea4ba7ad4eb20ede27c%20%3D%20%24%28%60%3Cdiv%20id%3D%22html_16982cf629ae4ea4ba7ad4eb20ede27c%22%20style%3D%22width%3A%20100.0%25%3B%20height%3A%20100.0%25%3B%22%3E%3Cb%3EBest%20path%3C/b%3E%3C/div%3E%60%29%5B0%5D%3B%0A%20%20%20%20%20%20%20%20%20%20%20%20%20%20%20%20popup_8a967e7c7c8f4549aa904a00d1fe53cf.setContent%28html_16982cf629ae4ea4ba7ad4eb20ede27c%29%3B%0A%20%20%20%20%20%20%20%20%20%20%20%20%0A%0A%20%20%20%20%20%20%20%20%20%20%20%20poly_line_e183feb80acf4484a390d89623812da4.bindPopup%28popup_8a967e7c7c8f4549aa904a00d1fe53cf%29%0A%20%20%20%20%20%20%20%20%20%20%20%20%3B%0A%0A%20%20%20%20%20%20%20%20%20%20%20%20%0A%20%20%20%20%20%20%20%20%0A%20%20%20%20%0A%20%20%20%20%20%20%20%20poly_line_e183feb80acf4484a390d89623812da4.bindTooltip%28%0A%20%20%20%20%20%20%20%20%20%20%20%20%60%3Cdiv%3E%60%0A%20%20%20%20%20%20%20%20%20%20%20%20%2B%20%60Route%60%20%2B%20%60%3C/div%3E%60%2C%0A%20%20%20%20%20%20%20%20%20%20%20%20%7B%22sticky%22%3A%20true%7D%0A%20%20%20%20%20%20%20%20%29%3B%0A%20%20%20%20%20%20%20%20%0A%20%20%20%20%0A%20%20%20%20%20%20%20%20%20%20%20%20%20%20%20%20var%20poly_line_9becb64a16654d289ea1f37c7f96068c%20%3D%20L.polyline%28%0A%20%20%20%20%20%20%20%20%20%20%20%20%20%20%20%20%20%20%20%20%5B%5B12.9716%2C%2077.5946%5D%2C%20%5B13.0827%2C%2080.2707%5D%2C%20%5B17.385%2C%2078.4867%5D%2C%20%5B22.5726%2C%2088.3639%5D%2C%20%5B25.3176%2C%2082.9739%5D%2C%20%5B27.1767%2C%2078.0081%5D%2C%20%5B28.7041%2C%2077.1025%5D%2C%20%5B26.9124%2C%2075.7873%5D%2C%20%5B24.5854%2C%2073.7125%5D%2C%20%5B19.076%2C%2072.8777%5D%2C%20%5B12.2958%2C%2076.6394%5D%2C%20%5B12.9716%2C%2077.5946%5D%5D%2C%0A%20%20%20%20%20%20%20%20%20%20%20%20%20%20%20%20%20%20%20%20%7B%0A%20%20%22bubblingMouseEvents%22%3A%20true%2C%0A%20%20%22color%22%3A%20%22blue%22%2C%0A%20%20%22dashArray%22%3A%20null%2C%0A%20%20%22dashOffset%22%3A%20null%2C%0A%20%20%22fill%22%3A%20false%2C%0A%20%20%22fillColor%22%3A%20%22blue%22%2C%0A%20%20%22fillOpacity%22%3A%200.2%2C%0A%20%20%22fillRule%22%3A%20%22evenodd%22%2C%0A%20%20%22lineCap%22%3A%20%22round%22%2C%0A%20%20%22lineJoin%22%3A%20%22round%22%2C%0A%20%20%22noClip%22%3A%20false%2C%0A%20%20%22opacity%22%3A%201.0%2C%0A%20%20%22smoothFactor%22%3A%201.0%2C%0A%20%20%22stroke%22%3A%20true%2C%0A%20%20%22weight%22%3A%202%0A%7D%0A%20%20%20%20%20%20%20%20%20%20%20%20%20%20%20%20%20%20%20%20%29%0A%20%20%20%20%20%20%20%20%20%20%20%20%20%20%20%20%20%20%20%20.addTo%28map_e0a8c029beeb49229f9b6e981ccba026%29%3B%0A%20%20%20%20%20%20%20%20%20%20%20%20%0A%20%20%20%20%0A%20%20%20%20%20%20%20%20%20%20%20%20var%20popup_6c91e12f78a7473c88f2650c63b7b572%20%3D%20L.popup%28%7BmaxWidth%3A%20%27100%25%27%0A%20%20%20%20%20%20%20%20%20%20%20%20%0A%20%20%20%20%20%20%20%20%20%20%20%20%7D%29%3B%0A%0A%20%20%20%20%20%20%20%20%20%20%20%20%0A%20%20%20%20%20%20%20%20%20%20%20%20%20%20%20%20var%20html_08d74f6baf464564b1eecff7d8c2c2ee%20%3D%20%24%28%60%3Cdiv%20id%3D%22html_08d74f6baf464564b1eecff7d8c2c2ee%22%20style%3D%22width%3A%20100.0%25%3B%20height%3A%20100.0%25%3B%22%3E%3Cb%3EBest%20path%3C/b%3E%3C/div%3E%60%29%5B0%5D%3B%0A%20%20%20%20%20%20%20%20%20%20%20%20%20%20%20%20popup_6c91e12f78a7473c88f2650c63b7b572.setContent%28html_08d74f6baf464564b1eecff7d8c2c2ee%29%3B%0A%20%20%20%20%20%20%20%20%20%20%20%20%0A%0A%20%20%20%20%20%20%20%20%20%20%20%20poly_line_9becb64a16654d289ea1f37c7f96068c.bindPopup%28popup_6c91e12f78a7473c88f2650c63b7b572%29%0A%20%20%20%20%20%20%20%20%20%20%20%20%3B%0A%0A%20%20%20%20%20%20%20%20%20%20%20%20%0A%20%20%20%20%20%20%20%20%0A%20%20%20%20%0A%20%20%20%20%20%20%20%20poly_line_9becb64a16654d289ea1f37c7f96068c.bindTooltip%28%0A%20%20%20%20%20%20%20%20%20%20%20%20%60%3Cdiv%3E%60%0A%20%20%20%20%20%20%20%20%20%20%20%20%2B%20%60Route%60%20%2B%20%60%3C/div%3E%60%2C%0A%20%20%20%20%20%20%20%20%20%20%20%20%7B%22sticky%22%3A%20true%7D%0A%20%20%20%20%20%20%20%20%29%3B%0A%20%20%20%20%20%20%20%20%0A%3C/script%3E onload=\"this.contentDocument.open();this.contentDocument.write(    decodeURIComponent(this.getAttribute('data-html')));this.contentDocument.close();\" \"allowfullscreen\" \"webkitallowfullscreen\" \"mozallowfullscreen\"></iframe>"
            ],
            "text/plain": [
              "<folium.folium.Map at 0x7f3704405250>"
            ]
          },
          "metadata": {},
          "execution_count": 26
        }
      ]
    },
    {
      "cell_type": "code",
      "metadata": {
        "id": "ngD4GUJ3MHLw"
      },
      "source": [
        ""
      ],
      "execution_count": 26,
      "outputs": []
    }
  ]
}